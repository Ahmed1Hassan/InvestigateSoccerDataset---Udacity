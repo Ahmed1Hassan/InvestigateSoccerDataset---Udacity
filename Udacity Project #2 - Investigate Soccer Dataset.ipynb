{
 "cells": [
  {
   "cell_type": "markdown",
   "metadata": {
    "_uuid": "8bddc3a35931da7077671c9799c452ab2e7c8581"
   },
   "source": [
    "# Project: European Soccer Database Analysis\n",
    "\n",
    "## Table of Contents\n",
    "<ul>\n",
    "<li><a href=\"#intro\">Introduction</a></li>\n",
    "<li><a href=\"#wrangling\">Data Wrangling</a></li>\n",
    "<li><a href=\"#eda\">Exploratory Data Analysis</a></li>\n",
    "<li><a href=\"#conclusions\">Conclusions</a></li>\n",
    "</ul>"
   ]
  },
  {
   "cell_type": "markdown",
   "metadata": {
    "_uuid": "c6b6124b00490f77ebd8f179f8a3a54d3da8deb2"
   },
   "source": [
    "<a id='intro'></a>\n",
    "## Introduction\n",
    "\n",
    "> Welcome to Soccer Data Analysis Project, in this project, we will analyze European Soccer Database (made by Hugo Mathien). This soccer database comes from Kaggle and is well suited for data analysis and machine learning. It contains data for soccer matches, players, and teams from several European countries from 2008 to 2016.\n",
    "\n",
    ">### Data Analysis is performed to answer the following questions:\n",
    "(1) What teams improved the most over the time period? \\\n",
    "(2) Which players had the most penalties? \\\n",
    "(3) What team attributes lead to the most victories?\n",
    "\n",
    ">N.B. The database is stored in a SQLite database. To access the database files, use software like DB Browser."
   ]
  },
  {
   "cell_type": "code",
   "execution_count": 1,
   "metadata": {
    "_uuid": "81932427ff7f7433e9afa7b7f31c8a7310236301",
    "jupyter": {
     "outputs_hidden": true
    }
   },
   "outputs": [],
   "source": [
    "# Packages Importing\n",
    "import sqlite3 as sql\n",
    "import pandas as pd\n",
    "import numpy as np\n",
    "import matplotlib.pyplot as plt\n",
    "import seaborn as sns\n",
    "import scipy.stats as stats\n",
    "%matplotlib inline"
   ]
  },
  {
   "cell_type": "markdown",
   "metadata": {
    "_uuid": "6d56de8377da96f54315de550e459fd7a14c680f"
   },
   "source": [
    "<a id='wrangling'></a>\n",
    "## Data Wrangling\n",
    "\n",
    "### Connect the Project to the Database"
   ]
  },
  {
   "cell_type": "code",
   "execution_count": 2,
   "metadata": {
    "_uuid": "bb1a8db9329daedb6dc3a0a3312202925eed50ff",
    "jupyter": {
     "outputs_hidden": true
    }
   },
   "outputs": [],
   "source": [
    "# Establish connection to database, and load the tables.\n",
    "conn=sql.connect('soccer_database.sqlite')"
   ]
  },
  {
   "cell_type": "code",
   "execution_count": 3,
   "metadata": {},
   "outputs": [
    {
     "data": {
      "text/html": [
       "<div>\n",
       "<style scoped>\n",
       "    .dataframe tbody tr th:only-of-type {\n",
       "        vertical-align: middle;\n",
       "    }\n",
       "\n",
       "    .dataframe tbody tr th {\n",
       "        vertical-align: top;\n",
       "    }\n",
       "\n",
       "    .dataframe thead th {\n",
       "        text-align: right;\n",
       "    }\n",
       "</style>\n",
       "<table border=\"1\" class=\"dataframe\">\n",
       "  <thead>\n",
       "    <tr style=\"text-align: right;\">\n",
       "      <th></th>\n",
       "      <th>name</th>\n",
       "    </tr>\n",
       "  </thead>\n",
       "  <tbody>\n",
       "    <tr>\n",
       "      <th>0</th>\n",
       "      <td>sqlite_sequence</td>\n",
       "    </tr>\n",
       "    <tr>\n",
       "      <th>1</th>\n",
       "      <td>Player_Attributes</td>\n",
       "    </tr>\n",
       "    <tr>\n",
       "      <th>2</th>\n",
       "      <td>Player</td>\n",
       "    </tr>\n",
       "    <tr>\n",
       "      <th>3</th>\n",
       "      <td>Match</td>\n",
       "    </tr>\n",
       "    <tr>\n",
       "      <th>4</th>\n",
       "      <td>League</td>\n",
       "    </tr>\n",
       "    <tr>\n",
       "      <th>5</th>\n",
       "      <td>Country</td>\n",
       "    </tr>\n",
       "    <tr>\n",
       "      <th>6</th>\n",
       "      <td>Team</td>\n",
       "    </tr>\n",
       "    <tr>\n",
       "      <th>7</th>\n",
       "      <td>Team_Attributes</td>\n",
       "    </tr>\n",
       "  </tbody>\n",
       "</table>\n",
       "</div>"
      ],
      "text/plain": [
       "                name\n",
       "0    sqlite_sequence\n",
       "1  Player_Attributes\n",
       "2             Player\n",
       "3              Match\n",
       "4             League\n",
       "5            Country\n",
       "6               Team\n",
       "7    Team_Attributes"
      ]
     },
     "execution_count": 3,
     "metadata": {},
     "output_type": "execute_result"
    }
   ],
   "source": [
    "# Find out the tables in the databse\n",
    "df_tables=pd.read_sql_query(\"SELECT name FROM sqlite_master WHERE type='table'\", conn)\n",
    "df_tables"
   ]
  },
  {
   "cell_type": "markdown",
   "metadata": {},
   "source": [
    "### Select The Needed Tables From The Database"
   ]
  },
  {
   "cell_type": "code",
   "execution_count": 4,
   "metadata": {},
   "outputs": [],
   "source": [
    "# First: Match Table\n",
    "df_match=pd.read_sql_query('SELECT * FROM match',conn)"
   ]
  },
  {
   "cell_type": "markdown",
   "metadata": {
    "_uuid": "780f36aa496380bde29efaffa881159cd28694f4"
   },
   "source": [
    "#### General Properties of Match Table"
   ]
  },
  {
   "cell_type": "code",
   "execution_count": 5,
   "metadata": {
    "_uuid": "350d7a8eb5d9ace216e7bdeea66adce44d1ae421",
    "jupyter": {
     "outputs_hidden": true
    }
   },
   "outputs": [
    {
     "data": {
      "text/html": [
       "<div>\n",
       "<style scoped>\n",
       "    .dataframe tbody tr th:only-of-type {\n",
       "        vertical-align: middle;\n",
       "    }\n",
       "\n",
       "    .dataframe tbody tr th {\n",
       "        vertical-align: top;\n",
       "    }\n",
       "\n",
       "    .dataframe thead th {\n",
       "        text-align: right;\n",
       "    }\n",
       "</style>\n",
       "<table border=\"1\" class=\"dataframe\">\n",
       "  <thead>\n",
       "    <tr style=\"text-align: right;\">\n",
       "      <th></th>\n",
       "      <th>id</th>\n",
       "      <th>country_id</th>\n",
       "      <th>league_id</th>\n",
       "      <th>season</th>\n",
       "      <th>stage</th>\n",
       "      <th>date</th>\n",
       "      <th>match_api_id</th>\n",
       "      <th>home_team_api_id</th>\n",
       "      <th>away_team_api_id</th>\n",
       "      <th>home_team_goal</th>\n",
       "      <th>...</th>\n",
       "      <th>SJA</th>\n",
       "      <th>VCH</th>\n",
       "      <th>VCD</th>\n",
       "      <th>VCA</th>\n",
       "      <th>GBH</th>\n",
       "      <th>GBD</th>\n",
       "      <th>GBA</th>\n",
       "      <th>BSH</th>\n",
       "      <th>BSD</th>\n",
       "      <th>BSA</th>\n",
       "    </tr>\n",
       "  </thead>\n",
       "  <tbody>\n",
       "    <tr>\n",
       "      <th>0</th>\n",
       "      <td>1</td>\n",
       "      <td>1</td>\n",
       "      <td>1</td>\n",
       "      <td>2008/2009</td>\n",
       "      <td>1</td>\n",
       "      <td>2008-08-17 00:00:00</td>\n",
       "      <td>492473</td>\n",
       "      <td>9987</td>\n",
       "      <td>9993</td>\n",
       "      <td>1</td>\n",
       "      <td>...</td>\n",
       "      <td>4.00</td>\n",
       "      <td>1.65</td>\n",
       "      <td>3.40</td>\n",
       "      <td>4.50</td>\n",
       "      <td>1.78</td>\n",
       "      <td>3.25</td>\n",
       "      <td>4.00</td>\n",
       "      <td>1.73</td>\n",
       "      <td>3.40</td>\n",
       "      <td>4.20</td>\n",
       "    </tr>\n",
       "    <tr>\n",
       "      <th>1</th>\n",
       "      <td>2</td>\n",
       "      <td>1</td>\n",
       "      <td>1</td>\n",
       "      <td>2008/2009</td>\n",
       "      <td>1</td>\n",
       "      <td>2008-08-16 00:00:00</td>\n",
       "      <td>492474</td>\n",
       "      <td>10000</td>\n",
       "      <td>9994</td>\n",
       "      <td>0</td>\n",
       "      <td>...</td>\n",
       "      <td>3.80</td>\n",
       "      <td>2.00</td>\n",
       "      <td>3.25</td>\n",
       "      <td>3.25</td>\n",
       "      <td>1.85</td>\n",
       "      <td>3.25</td>\n",
       "      <td>3.75</td>\n",
       "      <td>1.91</td>\n",
       "      <td>3.25</td>\n",
       "      <td>3.60</td>\n",
       "    </tr>\n",
       "    <tr>\n",
       "      <th>2</th>\n",
       "      <td>3</td>\n",
       "      <td>1</td>\n",
       "      <td>1</td>\n",
       "      <td>2008/2009</td>\n",
       "      <td>1</td>\n",
       "      <td>2008-08-16 00:00:00</td>\n",
       "      <td>492475</td>\n",
       "      <td>9984</td>\n",
       "      <td>8635</td>\n",
       "      <td>0</td>\n",
       "      <td>...</td>\n",
       "      <td>2.50</td>\n",
       "      <td>2.35</td>\n",
       "      <td>3.25</td>\n",
       "      <td>2.65</td>\n",
       "      <td>2.50</td>\n",
       "      <td>3.20</td>\n",
       "      <td>2.50</td>\n",
       "      <td>2.30</td>\n",
       "      <td>3.20</td>\n",
       "      <td>2.75</td>\n",
       "    </tr>\n",
       "    <tr>\n",
       "      <th>3</th>\n",
       "      <td>4</td>\n",
       "      <td>1</td>\n",
       "      <td>1</td>\n",
       "      <td>2008/2009</td>\n",
       "      <td>1</td>\n",
       "      <td>2008-08-17 00:00:00</td>\n",
       "      <td>492476</td>\n",
       "      <td>9991</td>\n",
       "      <td>9998</td>\n",
       "      <td>5</td>\n",
       "      <td>...</td>\n",
       "      <td>7.50</td>\n",
       "      <td>1.45</td>\n",
       "      <td>3.75</td>\n",
       "      <td>6.50</td>\n",
       "      <td>1.50</td>\n",
       "      <td>3.75</td>\n",
       "      <td>5.50</td>\n",
       "      <td>1.44</td>\n",
       "      <td>3.75</td>\n",
       "      <td>6.50</td>\n",
       "    </tr>\n",
       "    <tr>\n",
       "      <th>4</th>\n",
       "      <td>5</td>\n",
       "      <td>1</td>\n",
       "      <td>1</td>\n",
       "      <td>2008/2009</td>\n",
       "      <td>1</td>\n",
       "      <td>2008-08-16 00:00:00</td>\n",
       "      <td>492477</td>\n",
       "      <td>7947</td>\n",
       "      <td>9985</td>\n",
       "      <td>1</td>\n",
       "      <td>...</td>\n",
       "      <td>1.73</td>\n",
       "      <td>4.50</td>\n",
       "      <td>3.40</td>\n",
       "      <td>1.65</td>\n",
       "      <td>4.50</td>\n",
       "      <td>3.50</td>\n",
       "      <td>1.65</td>\n",
       "      <td>4.75</td>\n",
       "      <td>3.30</td>\n",
       "      <td>1.67</td>\n",
       "    </tr>\n",
       "  </tbody>\n",
       "</table>\n",
       "<p>5 rows × 115 columns</p>\n",
       "</div>"
      ],
      "text/plain": [
       "   id  country_id  league_id     season  stage                 date  \\\n",
       "0   1           1          1  2008/2009      1  2008-08-17 00:00:00   \n",
       "1   2           1          1  2008/2009      1  2008-08-16 00:00:00   \n",
       "2   3           1          1  2008/2009      1  2008-08-16 00:00:00   \n",
       "3   4           1          1  2008/2009      1  2008-08-17 00:00:00   \n",
       "4   5           1          1  2008/2009      1  2008-08-16 00:00:00   \n",
       "\n",
       "   match_api_id  home_team_api_id  away_team_api_id  home_team_goal  ...  \\\n",
       "0        492473              9987              9993               1  ...   \n",
       "1        492474             10000              9994               0  ...   \n",
       "2        492475              9984              8635               0  ...   \n",
       "3        492476              9991              9998               5  ...   \n",
       "4        492477              7947              9985               1  ...   \n",
       "\n",
       "    SJA   VCH   VCD   VCA   GBH   GBD   GBA   BSH   BSD   BSA  \n",
       "0  4.00  1.65  3.40  4.50  1.78  3.25  4.00  1.73  3.40  4.20  \n",
       "1  3.80  2.00  3.25  3.25  1.85  3.25  3.75  1.91  3.25  3.60  \n",
       "2  2.50  2.35  3.25  2.65  2.50  3.20  2.50  2.30  3.20  2.75  \n",
       "3  7.50  1.45  3.75  6.50  1.50  3.75  5.50  1.44  3.75  6.50  \n",
       "4  1.73  4.50  3.40  1.65  4.50  3.50  1.65  4.75  3.30  1.67  \n",
       "\n",
       "[5 rows x 115 columns]"
      ]
     },
     "execution_count": 5,
     "metadata": {},
     "output_type": "execute_result"
    }
   ],
   "source": [
    "# View first Data of Match Table\n",
    "df_match.head()"
   ]
  },
  {
   "cell_type": "code",
   "execution_count": 6,
   "metadata": {},
   "outputs": [
    {
     "data": {
      "text/plain": [
       "0"
      ]
     },
     "execution_count": 6,
     "metadata": {},
     "output_type": "execute_result"
    }
   ],
   "source": [
    "# Count Duplicates in Match Table\n",
    "df_match.duplicated().sum()"
   ]
  },
  {
   "cell_type": "code",
   "execution_count": 7,
   "metadata": {},
   "outputs": [],
   "source": [
    "# Second: Team Table\n",
    "df_team=pd.read_sql_query('SELECT * FROM team',conn)"
   ]
  },
  {
   "cell_type": "markdown",
   "metadata": {
    "_uuid": "f1a999caf2eb810691a6d70065292bfe1253f601"
   },
   "source": [
    "#### General Properties of Team Table"
   ]
  },
  {
   "cell_type": "code",
   "execution_count": 8,
   "metadata": {
    "_uuid": "90dae638d3dcf3583e59815a36cf603fdbcb5a43",
    "jupyter": {
     "outputs_hidden": true
    },
    "scrolled": true
   },
   "outputs": [
    {
     "data": {
      "text/html": [
       "<div>\n",
       "<style scoped>\n",
       "    .dataframe tbody tr th:only-of-type {\n",
       "        vertical-align: middle;\n",
       "    }\n",
       "\n",
       "    .dataframe tbody tr th {\n",
       "        vertical-align: top;\n",
       "    }\n",
       "\n",
       "    .dataframe thead th {\n",
       "        text-align: right;\n",
       "    }\n",
       "</style>\n",
       "<table border=\"1\" class=\"dataframe\">\n",
       "  <thead>\n",
       "    <tr style=\"text-align: right;\">\n",
       "      <th></th>\n",
       "      <th>id</th>\n",
       "      <th>team_api_id</th>\n",
       "      <th>team_fifa_api_id</th>\n",
       "      <th>team_long_name</th>\n",
       "      <th>team_short_name</th>\n",
       "    </tr>\n",
       "  </thead>\n",
       "  <tbody>\n",
       "    <tr>\n",
       "      <th>0</th>\n",
       "      <td>1</td>\n",
       "      <td>9987</td>\n",
       "      <td>673.0</td>\n",
       "      <td>KRC Genk</td>\n",
       "      <td>GEN</td>\n",
       "    </tr>\n",
       "    <tr>\n",
       "      <th>1</th>\n",
       "      <td>2</td>\n",
       "      <td>9993</td>\n",
       "      <td>675.0</td>\n",
       "      <td>Beerschot AC</td>\n",
       "      <td>BAC</td>\n",
       "    </tr>\n",
       "    <tr>\n",
       "      <th>2</th>\n",
       "      <td>3</td>\n",
       "      <td>10000</td>\n",
       "      <td>15005.0</td>\n",
       "      <td>SV Zulte-Waregem</td>\n",
       "      <td>ZUL</td>\n",
       "    </tr>\n",
       "    <tr>\n",
       "      <th>3</th>\n",
       "      <td>4</td>\n",
       "      <td>9994</td>\n",
       "      <td>2007.0</td>\n",
       "      <td>Sporting Lokeren</td>\n",
       "      <td>LOK</td>\n",
       "    </tr>\n",
       "    <tr>\n",
       "      <th>4</th>\n",
       "      <td>5</td>\n",
       "      <td>9984</td>\n",
       "      <td>1750.0</td>\n",
       "      <td>KSV Cercle Brugge</td>\n",
       "      <td>CEB</td>\n",
       "    </tr>\n",
       "  </tbody>\n",
       "</table>\n",
       "</div>"
      ],
      "text/plain": [
       "   id  team_api_id  team_fifa_api_id     team_long_name team_short_name\n",
       "0   1         9987             673.0           KRC Genk             GEN\n",
       "1   2         9993             675.0       Beerschot AC             BAC\n",
       "2   3        10000           15005.0   SV Zulte-Waregem             ZUL\n",
       "3   4         9994            2007.0   Sporting Lokeren             LOK\n",
       "4   5         9984            1750.0  KSV Cercle Brugge             CEB"
      ]
     },
     "execution_count": 8,
     "metadata": {},
     "output_type": "execute_result"
    }
   ],
   "source": [
    "# View first Data of Team Table\n",
    "df_team.head()"
   ]
  },
  {
   "cell_type": "code",
   "execution_count": 9,
   "metadata": {
    "_uuid": "26da8054143d2782d89c3f85d6f09ec73d00f921",
    "jupyter": {
     "outputs_hidden": true
    }
   },
   "outputs": [
    {
     "data": {
      "text/plain": [
       "0"
      ]
     },
     "execution_count": 9,
     "metadata": {},
     "output_type": "execute_result"
    }
   ],
   "source": [
    "# Count Duplicates in Team Table\n",
    "df_team.duplicated().sum()"
   ]
  },
  {
   "cell_type": "code",
   "execution_count": 10,
   "metadata": {
    "scrolled": false
   },
   "outputs": [
    {
     "data": {
      "text/plain": [
       "id                   0\n",
       "team_api_id          0\n",
       "team_fifa_api_id    11\n",
       "team_long_name       0\n",
       "team_short_name      0\n",
       "dtype: int64"
      ]
     },
     "execution_count": 10,
     "metadata": {},
     "output_type": "execute_result"
    }
   ],
   "source": [
    "# Check for NaN values count\n",
    "df_team.isnull().sum()"
   ]
  },
  {
   "cell_type": "markdown",
   "metadata": {},
   "source": [
    "##### Note: team_fifa_api_id Column contains NaN Values but it is not important for the project . To Clean the Team Table, I will drop this column."
   ]
  },
  {
   "cell_type": "code",
   "execution_count": 11,
   "metadata": {},
   "outputs": [],
   "source": [
    "#Third: Team Attributes Table\n",
    "df_team_attributes=pd.read_sql_query('SELECT * FROM team_attributes',conn)"
   ]
  },
  {
   "cell_type": "markdown",
   "metadata": {},
   "source": [
    "#### General Properties of Team Table"
   ]
  },
  {
   "cell_type": "code",
   "execution_count": 12,
   "metadata": {
    "scrolled": true
   },
   "outputs": [
    {
     "data": {
      "text/html": [
       "<div>\n",
       "<style scoped>\n",
       "    .dataframe tbody tr th:only-of-type {\n",
       "        vertical-align: middle;\n",
       "    }\n",
       "\n",
       "    .dataframe tbody tr th {\n",
       "        vertical-align: top;\n",
       "    }\n",
       "\n",
       "    .dataframe thead th {\n",
       "        text-align: right;\n",
       "    }\n",
       "</style>\n",
       "<table border=\"1\" class=\"dataframe\">\n",
       "  <thead>\n",
       "    <tr style=\"text-align: right;\">\n",
       "      <th></th>\n",
       "      <th>id</th>\n",
       "      <th>team_fifa_api_id</th>\n",
       "      <th>team_api_id</th>\n",
       "      <th>date</th>\n",
       "      <th>buildUpPlaySpeed</th>\n",
       "      <th>buildUpPlaySpeedClass</th>\n",
       "      <th>buildUpPlayDribbling</th>\n",
       "      <th>buildUpPlayDribblingClass</th>\n",
       "      <th>buildUpPlayPassing</th>\n",
       "      <th>buildUpPlayPassingClass</th>\n",
       "      <th>...</th>\n",
       "      <th>chanceCreationShooting</th>\n",
       "      <th>chanceCreationShootingClass</th>\n",
       "      <th>chanceCreationPositioningClass</th>\n",
       "      <th>defencePressure</th>\n",
       "      <th>defencePressureClass</th>\n",
       "      <th>defenceAggression</th>\n",
       "      <th>defenceAggressionClass</th>\n",
       "      <th>defenceTeamWidth</th>\n",
       "      <th>defenceTeamWidthClass</th>\n",
       "      <th>defenceDefenderLineClass</th>\n",
       "    </tr>\n",
       "  </thead>\n",
       "  <tbody>\n",
       "    <tr>\n",
       "      <th>0</th>\n",
       "      <td>1</td>\n",
       "      <td>434</td>\n",
       "      <td>9930</td>\n",
       "      <td>2010-02-22 00:00:00</td>\n",
       "      <td>60</td>\n",
       "      <td>Balanced</td>\n",
       "      <td>NaN</td>\n",
       "      <td>Little</td>\n",
       "      <td>50</td>\n",
       "      <td>Mixed</td>\n",
       "      <td>...</td>\n",
       "      <td>55</td>\n",
       "      <td>Normal</td>\n",
       "      <td>Organised</td>\n",
       "      <td>50</td>\n",
       "      <td>Medium</td>\n",
       "      <td>55</td>\n",
       "      <td>Press</td>\n",
       "      <td>45</td>\n",
       "      <td>Normal</td>\n",
       "      <td>Cover</td>\n",
       "    </tr>\n",
       "    <tr>\n",
       "      <th>1</th>\n",
       "      <td>2</td>\n",
       "      <td>434</td>\n",
       "      <td>9930</td>\n",
       "      <td>2014-09-19 00:00:00</td>\n",
       "      <td>52</td>\n",
       "      <td>Balanced</td>\n",
       "      <td>48.0</td>\n",
       "      <td>Normal</td>\n",
       "      <td>56</td>\n",
       "      <td>Mixed</td>\n",
       "      <td>...</td>\n",
       "      <td>64</td>\n",
       "      <td>Normal</td>\n",
       "      <td>Organised</td>\n",
       "      <td>47</td>\n",
       "      <td>Medium</td>\n",
       "      <td>44</td>\n",
       "      <td>Press</td>\n",
       "      <td>54</td>\n",
       "      <td>Normal</td>\n",
       "      <td>Cover</td>\n",
       "    </tr>\n",
       "    <tr>\n",
       "      <th>2</th>\n",
       "      <td>3</td>\n",
       "      <td>434</td>\n",
       "      <td>9930</td>\n",
       "      <td>2015-09-10 00:00:00</td>\n",
       "      <td>47</td>\n",
       "      <td>Balanced</td>\n",
       "      <td>41.0</td>\n",
       "      <td>Normal</td>\n",
       "      <td>54</td>\n",
       "      <td>Mixed</td>\n",
       "      <td>...</td>\n",
       "      <td>64</td>\n",
       "      <td>Normal</td>\n",
       "      <td>Organised</td>\n",
       "      <td>47</td>\n",
       "      <td>Medium</td>\n",
       "      <td>44</td>\n",
       "      <td>Press</td>\n",
       "      <td>54</td>\n",
       "      <td>Normal</td>\n",
       "      <td>Cover</td>\n",
       "    </tr>\n",
       "    <tr>\n",
       "      <th>3</th>\n",
       "      <td>4</td>\n",
       "      <td>77</td>\n",
       "      <td>8485</td>\n",
       "      <td>2010-02-22 00:00:00</td>\n",
       "      <td>70</td>\n",
       "      <td>Fast</td>\n",
       "      <td>NaN</td>\n",
       "      <td>Little</td>\n",
       "      <td>70</td>\n",
       "      <td>Long</td>\n",
       "      <td>...</td>\n",
       "      <td>70</td>\n",
       "      <td>Lots</td>\n",
       "      <td>Organised</td>\n",
       "      <td>60</td>\n",
       "      <td>Medium</td>\n",
       "      <td>70</td>\n",
       "      <td>Double</td>\n",
       "      <td>70</td>\n",
       "      <td>Wide</td>\n",
       "      <td>Cover</td>\n",
       "    </tr>\n",
       "    <tr>\n",
       "      <th>4</th>\n",
       "      <td>5</td>\n",
       "      <td>77</td>\n",
       "      <td>8485</td>\n",
       "      <td>2011-02-22 00:00:00</td>\n",
       "      <td>47</td>\n",
       "      <td>Balanced</td>\n",
       "      <td>NaN</td>\n",
       "      <td>Little</td>\n",
       "      <td>52</td>\n",
       "      <td>Mixed</td>\n",
       "      <td>...</td>\n",
       "      <td>52</td>\n",
       "      <td>Normal</td>\n",
       "      <td>Organised</td>\n",
       "      <td>47</td>\n",
       "      <td>Medium</td>\n",
       "      <td>47</td>\n",
       "      <td>Press</td>\n",
       "      <td>52</td>\n",
       "      <td>Normal</td>\n",
       "      <td>Cover</td>\n",
       "    </tr>\n",
       "  </tbody>\n",
       "</table>\n",
       "<p>5 rows × 25 columns</p>\n",
       "</div>"
      ],
      "text/plain": [
       "   id  team_fifa_api_id  team_api_id                 date  buildUpPlaySpeed  \\\n",
       "0   1               434         9930  2010-02-22 00:00:00                60   \n",
       "1   2               434         9930  2014-09-19 00:00:00                52   \n",
       "2   3               434         9930  2015-09-10 00:00:00                47   \n",
       "3   4                77         8485  2010-02-22 00:00:00                70   \n",
       "4   5                77         8485  2011-02-22 00:00:00                47   \n",
       "\n",
       "  buildUpPlaySpeedClass  buildUpPlayDribbling buildUpPlayDribblingClass  \\\n",
       "0              Balanced                   NaN                    Little   \n",
       "1              Balanced                  48.0                    Normal   \n",
       "2              Balanced                  41.0                    Normal   \n",
       "3                  Fast                   NaN                    Little   \n",
       "4              Balanced                   NaN                    Little   \n",
       "\n",
       "   buildUpPlayPassing buildUpPlayPassingClass  ... chanceCreationShooting  \\\n",
       "0                  50                   Mixed  ...                     55   \n",
       "1                  56                   Mixed  ...                     64   \n",
       "2                  54                   Mixed  ...                     64   \n",
       "3                  70                    Long  ...                     70   \n",
       "4                  52                   Mixed  ...                     52   \n",
       "\n",
       "   chanceCreationShootingClass chanceCreationPositioningClass  \\\n",
       "0                       Normal                      Organised   \n",
       "1                       Normal                      Organised   \n",
       "2                       Normal                      Organised   \n",
       "3                         Lots                      Organised   \n",
       "4                       Normal                      Organised   \n",
       "\n",
       "   defencePressure defencePressureClass  defenceAggression  \\\n",
       "0               50               Medium                 55   \n",
       "1               47               Medium                 44   \n",
       "2               47               Medium                 44   \n",
       "3               60               Medium                 70   \n",
       "4               47               Medium                 47   \n",
       "\n",
       "  defenceAggressionClass defenceTeamWidth  defenceTeamWidthClass  \\\n",
       "0                  Press               45                 Normal   \n",
       "1                  Press               54                 Normal   \n",
       "2                  Press               54                 Normal   \n",
       "3                 Double               70                   Wide   \n",
       "4                  Press               52                 Normal   \n",
       "\n",
       "  defenceDefenderLineClass  \n",
       "0                    Cover  \n",
       "1                    Cover  \n",
       "2                    Cover  \n",
       "3                    Cover  \n",
       "4                    Cover  \n",
       "\n",
       "[5 rows x 25 columns]"
      ]
     },
     "execution_count": 12,
     "metadata": {},
     "output_type": "execute_result"
    }
   ],
   "source": [
    "# View first Data of Team Attributes Table\n",
    "df_team_attributes.head()"
   ]
  },
  {
   "cell_type": "code",
   "execution_count": 13,
   "metadata": {},
   "outputs": [
    {
     "data": {
      "text/plain": [
       "0"
      ]
     },
     "execution_count": 13,
     "metadata": {},
     "output_type": "execute_result"
    }
   ],
   "source": [
    "# Count Duplicates in Team Attributes Table\n",
    "df_team_attributes.duplicated().sum()"
   ]
  },
  {
   "cell_type": "code",
   "execution_count": 14,
   "metadata": {
    "scrolled": true
   },
   "outputs": [
    {
     "name": "stdout",
     "output_type": "stream",
     "text": [
      "<class 'pandas.core.frame.DataFrame'>\n",
      "RangeIndex: 1458 entries, 0 to 1457\n",
      "Data columns (total 25 columns):\n",
      " #   Column                          Non-Null Count  Dtype  \n",
      "---  ------                          --------------  -----  \n",
      " 0   id                              1458 non-null   int64  \n",
      " 1   team_fifa_api_id                1458 non-null   int64  \n",
      " 2   team_api_id                     1458 non-null   int64  \n",
      " 3   date                            1458 non-null   object \n",
      " 4   buildUpPlaySpeed                1458 non-null   int64  \n",
      " 5   buildUpPlaySpeedClass           1458 non-null   object \n",
      " 6   buildUpPlayDribbling            489 non-null    float64\n",
      " 7   buildUpPlayDribblingClass       1458 non-null   object \n",
      " 8   buildUpPlayPassing              1458 non-null   int64  \n",
      " 9   buildUpPlayPassingClass         1458 non-null   object \n",
      " 10  buildUpPlayPositioningClass     1458 non-null   object \n",
      " 11  chanceCreationPassing           1458 non-null   int64  \n",
      " 12  chanceCreationPassingClass      1458 non-null   object \n",
      " 13  chanceCreationCrossing          1458 non-null   int64  \n",
      " 14  chanceCreationCrossingClass     1458 non-null   object \n",
      " 15  chanceCreationShooting          1458 non-null   int64  \n",
      " 16  chanceCreationShootingClass     1458 non-null   object \n",
      " 17  chanceCreationPositioningClass  1458 non-null   object \n",
      " 18  defencePressure                 1458 non-null   int64  \n",
      " 19  defencePressureClass            1458 non-null   object \n",
      " 20  defenceAggression               1458 non-null   int64  \n",
      " 21  defenceAggressionClass          1458 non-null   object \n",
      " 22  defenceTeamWidth                1458 non-null   int64  \n",
      " 23  defenceTeamWidthClass           1458 non-null   object \n",
      " 24  defenceDefenderLineClass        1458 non-null   object \n",
      "dtypes: float64(1), int64(11), object(13)\n",
      "memory usage: 284.9+ KB\n"
     ]
    }
   ],
   "source": [
    "# Check for missing data\n",
    "df_team_attributes.info()"
   ]
  },
  {
   "cell_type": "code",
   "execution_count": 15,
   "metadata": {
    "scrolled": true
   },
   "outputs": [
    {
     "data": {
      "text/plain": [
       "id                                  0\n",
       "team_fifa_api_id                    0\n",
       "team_api_id                         0\n",
       "date                                0\n",
       "buildUpPlaySpeed                    0\n",
       "buildUpPlaySpeedClass               0\n",
       "buildUpPlayDribbling              969\n",
       "buildUpPlayDribblingClass           0\n",
       "buildUpPlayPassing                  0\n",
       "buildUpPlayPassingClass             0\n",
       "buildUpPlayPositioningClass         0\n",
       "chanceCreationPassing               0\n",
       "chanceCreationPassingClass          0\n",
       "chanceCreationCrossing              0\n",
       "chanceCreationCrossingClass         0\n",
       "chanceCreationShooting              0\n",
       "chanceCreationShootingClass         0\n",
       "chanceCreationPositioningClass      0\n",
       "defencePressure                     0\n",
       "defencePressureClass                0\n",
       "defenceAggression                   0\n",
       "defenceAggressionClass              0\n",
       "defenceTeamWidth                    0\n",
       "defenceTeamWidthClass               0\n",
       "defenceDefenderLineClass            0\n",
       "dtype: int64"
      ]
     },
     "execution_count": 15,
     "metadata": {},
     "output_type": "execute_result"
    }
   ],
   "source": [
    "#check for NaN values count\n",
    "df_team_attributes.isnull().sum()"
   ]
  },
  {
   "cell_type": "markdown",
   "metadata": {
    "_uuid": "5e1501c10533a1215b17f6dd39e842a51a040e6b"
   },
   "source": [
    "##### Note: buildUpPlayDribbling Column contains over 66% NaN Values. To Clean the Team Attributes Table, I will drop this column."
   ]
  },
  {
   "cell_type": "code",
   "execution_count": 16,
   "metadata": {},
   "outputs": [],
   "source": [
    "# Fourth: Player Table\n",
    "df_player=pd.read_sql_query('SELECT * FROM player', conn)"
   ]
  },
  {
   "cell_type": "markdown",
   "metadata": {},
   "source": [
    "#### General Properties of Player Table"
   ]
  },
  {
   "cell_type": "code",
   "execution_count": 17,
   "metadata": {},
   "outputs": [
    {
     "data": {
      "text/html": [
       "<div>\n",
       "<style scoped>\n",
       "    .dataframe tbody tr th:only-of-type {\n",
       "        vertical-align: middle;\n",
       "    }\n",
       "\n",
       "    .dataframe tbody tr th {\n",
       "        vertical-align: top;\n",
       "    }\n",
       "\n",
       "    .dataframe thead th {\n",
       "        text-align: right;\n",
       "    }\n",
       "</style>\n",
       "<table border=\"1\" class=\"dataframe\">\n",
       "  <thead>\n",
       "    <tr style=\"text-align: right;\">\n",
       "      <th></th>\n",
       "      <th>id</th>\n",
       "      <th>player_api_id</th>\n",
       "      <th>player_name</th>\n",
       "      <th>player_fifa_api_id</th>\n",
       "      <th>birthday</th>\n",
       "      <th>height</th>\n",
       "      <th>weight</th>\n",
       "    </tr>\n",
       "  </thead>\n",
       "  <tbody>\n",
       "    <tr>\n",
       "      <th>0</th>\n",
       "      <td>1</td>\n",
       "      <td>505942</td>\n",
       "      <td>Aaron Appindangoye</td>\n",
       "      <td>218353</td>\n",
       "      <td>1992-02-29 00:00:00</td>\n",
       "      <td>182.88</td>\n",
       "      <td>187</td>\n",
       "    </tr>\n",
       "    <tr>\n",
       "      <th>1</th>\n",
       "      <td>2</td>\n",
       "      <td>155782</td>\n",
       "      <td>Aaron Cresswell</td>\n",
       "      <td>189615</td>\n",
       "      <td>1989-12-15 00:00:00</td>\n",
       "      <td>170.18</td>\n",
       "      <td>146</td>\n",
       "    </tr>\n",
       "    <tr>\n",
       "      <th>2</th>\n",
       "      <td>3</td>\n",
       "      <td>162549</td>\n",
       "      <td>Aaron Doran</td>\n",
       "      <td>186170</td>\n",
       "      <td>1991-05-13 00:00:00</td>\n",
       "      <td>170.18</td>\n",
       "      <td>163</td>\n",
       "    </tr>\n",
       "    <tr>\n",
       "      <th>3</th>\n",
       "      <td>4</td>\n",
       "      <td>30572</td>\n",
       "      <td>Aaron Galindo</td>\n",
       "      <td>140161</td>\n",
       "      <td>1982-05-08 00:00:00</td>\n",
       "      <td>182.88</td>\n",
       "      <td>198</td>\n",
       "    </tr>\n",
       "    <tr>\n",
       "      <th>4</th>\n",
       "      <td>5</td>\n",
       "      <td>23780</td>\n",
       "      <td>Aaron Hughes</td>\n",
       "      <td>17725</td>\n",
       "      <td>1979-11-08 00:00:00</td>\n",
       "      <td>182.88</td>\n",
       "      <td>154</td>\n",
       "    </tr>\n",
       "  </tbody>\n",
       "</table>\n",
       "</div>"
      ],
      "text/plain": [
       "   id  player_api_id         player_name  player_fifa_api_id  \\\n",
       "0   1         505942  Aaron Appindangoye              218353   \n",
       "1   2         155782     Aaron Cresswell              189615   \n",
       "2   3         162549         Aaron Doran              186170   \n",
       "3   4          30572       Aaron Galindo              140161   \n",
       "4   5          23780        Aaron Hughes               17725   \n",
       "\n",
       "              birthday  height  weight  \n",
       "0  1992-02-29 00:00:00  182.88     187  \n",
       "1  1989-12-15 00:00:00  170.18     146  \n",
       "2  1991-05-13 00:00:00  170.18     163  \n",
       "3  1982-05-08 00:00:00  182.88     198  \n",
       "4  1979-11-08 00:00:00  182.88     154  "
      ]
     },
     "execution_count": 17,
     "metadata": {},
     "output_type": "execute_result"
    }
   ],
   "source": [
    "# View first Data of Player Table\n",
    "df_player.head()"
   ]
  },
  {
   "cell_type": "code",
   "execution_count": 18,
   "metadata": {},
   "outputs": [
    {
     "data": {
      "text/plain": [
       "0"
      ]
     },
     "execution_count": 18,
     "metadata": {},
     "output_type": "execute_result"
    }
   ],
   "source": [
    "# Count Duplicates in Player Table\n",
    "df_player.duplicated().sum()"
   ]
  },
  {
   "cell_type": "code",
   "execution_count": 19,
   "metadata": {},
   "outputs": [
    {
     "data": {
      "text/plain": [
       "id                    0\n",
       "player_api_id         0\n",
       "player_name           0\n",
       "player_fifa_api_id    0\n",
       "birthday              0\n",
       "height                0\n",
       "weight                0\n",
       "dtype: int64"
      ]
     },
     "execution_count": 19,
     "metadata": {},
     "output_type": "execute_result"
    }
   ],
   "source": [
    "# Check for NaN values count\n",
    "df_player.isnull().sum()"
   ]
  },
  {
   "cell_type": "code",
   "execution_count": 20,
   "metadata": {},
   "outputs": [],
   "source": [
    "# Fifth: Player Attributes Table\n",
    "df_player_attributes=pd.read_sql_query('SELECT * FROM player_attributes;', conn)"
   ]
  },
  {
   "cell_type": "markdown",
   "metadata": {
    "_uuid": "386627f700f7ba200bc64cc62e83307abbffed17"
   },
   "source": [
    "#### General Properties of Player Attributes Table"
   ]
  },
  {
   "cell_type": "code",
   "execution_count": 21,
   "metadata": {},
   "outputs": [
    {
     "data": {
      "text/html": [
       "<div>\n",
       "<style scoped>\n",
       "    .dataframe tbody tr th:only-of-type {\n",
       "        vertical-align: middle;\n",
       "    }\n",
       "\n",
       "    .dataframe tbody tr th {\n",
       "        vertical-align: top;\n",
       "    }\n",
       "\n",
       "    .dataframe thead th {\n",
       "        text-align: right;\n",
       "    }\n",
       "</style>\n",
       "<table border=\"1\" class=\"dataframe\">\n",
       "  <thead>\n",
       "    <tr style=\"text-align: right;\">\n",
       "      <th></th>\n",
       "      <th>id</th>\n",
       "      <th>player_fifa_api_id</th>\n",
       "      <th>player_api_id</th>\n",
       "      <th>date</th>\n",
       "      <th>overall_rating</th>\n",
       "      <th>potential</th>\n",
       "      <th>preferred_foot</th>\n",
       "      <th>attacking_work_rate</th>\n",
       "      <th>defensive_work_rate</th>\n",
       "      <th>crossing</th>\n",
       "      <th>...</th>\n",
       "      <th>vision</th>\n",
       "      <th>penalties</th>\n",
       "      <th>marking</th>\n",
       "      <th>standing_tackle</th>\n",
       "      <th>sliding_tackle</th>\n",
       "      <th>gk_diving</th>\n",
       "      <th>gk_handling</th>\n",
       "      <th>gk_kicking</th>\n",
       "      <th>gk_positioning</th>\n",
       "      <th>gk_reflexes</th>\n",
       "    </tr>\n",
       "  </thead>\n",
       "  <tbody>\n",
       "    <tr>\n",
       "      <th>0</th>\n",
       "      <td>1</td>\n",
       "      <td>218353</td>\n",
       "      <td>505942</td>\n",
       "      <td>2016-02-18 00:00:00</td>\n",
       "      <td>67.0</td>\n",
       "      <td>71.0</td>\n",
       "      <td>right</td>\n",
       "      <td>medium</td>\n",
       "      <td>medium</td>\n",
       "      <td>49.0</td>\n",
       "      <td>...</td>\n",
       "      <td>54.0</td>\n",
       "      <td>48.0</td>\n",
       "      <td>65.0</td>\n",
       "      <td>69.0</td>\n",
       "      <td>69.0</td>\n",
       "      <td>6.0</td>\n",
       "      <td>11.0</td>\n",
       "      <td>10.0</td>\n",
       "      <td>8.0</td>\n",
       "      <td>8.0</td>\n",
       "    </tr>\n",
       "    <tr>\n",
       "      <th>1</th>\n",
       "      <td>2</td>\n",
       "      <td>218353</td>\n",
       "      <td>505942</td>\n",
       "      <td>2015-11-19 00:00:00</td>\n",
       "      <td>67.0</td>\n",
       "      <td>71.0</td>\n",
       "      <td>right</td>\n",
       "      <td>medium</td>\n",
       "      <td>medium</td>\n",
       "      <td>49.0</td>\n",
       "      <td>...</td>\n",
       "      <td>54.0</td>\n",
       "      <td>48.0</td>\n",
       "      <td>65.0</td>\n",
       "      <td>69.0</td>\n",
       "      <td>69.0</td>\n",
       "      <td>6.0</td>\n",
       "      <td>11.0</td>\n",
       "      <td>10.0</td>\n",
       "      <td>8.0</td>\n",
       "      <td>8.0</td>\n",
       "    </tr>\n",
       "    <tr>\n",
       "      <th>2</th>\n",
       "      <td>3</td>\n",
       "      <td>218353</td>\n",
       "      <td>505942</td>\n",
       "      <td>2015-09-21 00:00:00</td>\n",
       "      <td>62.0</td>\n",
       "      <td>66.0</td>\n",
       "      <td>right</td>\n",
       "      <td>medium</td>\n",
       "      <td>medium</td>\n",
       "      <td>49.0</td>\n",
       "      <td>...</td>\n",
       "      <td>54.0</td>\n",
       "      <td>48.0</td>\n",
       "      <td>65.0</td>\n",
       "      <td>66.0</td>\n",
       "      <td>69.0</td>\n",
       "      <td>6.0</td>\n",
       "      <td>11.0</td>\n",
       "      <td>10.0</td>\n",
       "      <td>8.0</td>\n",
       "      <td>8.0</td>\n",
       "    </tr>\n",
       "    <tr>\n",
       "      <th>3</th>\n",
       "      <td>4</td>\n",
       "      <td>218353</td>\n",
       "      <td>505942</td>\n",
       "      <td>2015-03-20 00:00:00</td>\n",
       "      <td>61.0</td>\n",
       "      <td>65.0</td>\n",
       "      <td>right</td>\n",
       "      <td>medium</td>\n",
       "      <td>medium</td>\n",
       "      <td>48.0</td>\n",
       "      <td>...</td>\n",
       "      <td>53.0</td>\n",
       "      <td>47.0</td>\n",
       "      <td>62.0</td>\n",
       "      <td>63.0</td>\n",
       "      <td>66.0</td>\n",
       "      <td>5.0</td>\n",
       "      <td>10.0</td>\n",
       "      <td>9.0</td>\n",
       "      <td>7.0</td>\n",
       "      <td>7.0</td>\n",
       "    </tr>\n",
       "    <tr>\n",
       "      <th>4</th>\n",
       "      <td>5</td>\n",
       "      <td>218353</td>\n",
       "      <td>505942</td>\n",
       "      <td>2007-02-22 00:00:00</td>\n",
       "      <td>61.0</td>\n",
       "      <td>65.0</td>\n",
       "      <td>right</td>\n",
       "      <td>medium</td>\n",
       "      <td>medium</td>\n",
       "      <td>48.0</td>\n",
       "      <td>...</td>\n",
       "      <td>53.0</td>\n",
       "      <td>47.0</td>\n",
       "      <td>62.0</td>\n",
       "      <td>63.0</td>\n",
       "      <td>66.0</td>\n",
       "      <td>5.0</td>\n",
       "      <td>10.0</td>\n",
       "      <td>9.0</td>\n",
       "      <td>7.0</td>\n",
       "      <td>7.0</td>\n",
       "    </tr>\n",
       "  </tbody>\n",
       "</table>\n",
       "<p>5 rows × 42 columns</p>\n",
       "</div>"
      ],
      "text/plain": [
       "   id  player_fifa_api_id  player_api_id                 date  overall_rating  \\\n",
       "0   1              218353         505942  2016-02-18 00:00:00            67.0   \n",
       "1   2              218353         505942  2015-11-19 00:00:00            67.0   \n",
       "2   3              218353         505942  2015-09-21 00:00:00            62.0   \n",
       "3   4              218353         505942  2015-03-20 00:00:00            61.0   \n",
       "4   5              218353         505942  2007-02-22 00:00:00            61.0   \n",
       "\n",
       "   potential preferred_foot attacking_work_rate defensive_work_rate  crossing  \\\n",
       "0       71.0          right              medium              medium      49.0   \n",
       "1       71.0          right              medium              medium      49.0   \n",
       "2       66.0          right              medium              medium      49.0   \n",
       "3       65.0          right              medium              medium      48.0   \n",
       "4       65.0          right              medium              medium      48.0   \n",
       "\n",
       "   ...  vision  penalties  marking  standing_tackle  sliding_tackle  \\\n",
       "0  ...    54.0       48.0     65.0             69.0            69.0   \n",
       "1  ...    54.0       48.0     65.0             69.0            69.0   \n",
       "2  ...    54.0       48.0     65.0             66.0            69.0   \n",
       "3  ...    53.0       47.0     62.0             63.0            66.0   \n",
       "4  ...    53.0       47.0     62.0             63.0            66.0   \n",
       "\n",
       "   gk_diving  gk_handling  gk_kicking  gk_positioning  gk_reflexes  \n",
       "0        6.0         11.0        10.0             8.0          8.0  \n",
       "1        6.0         11.0        10.0             8.0          8.0  \n",
       "2        6.0         11.0        10.0             8.0          8.0  \n",
       "3        5.0         10.0         9.0             7.0          7.0  \n",
       "4        5.0         10.0         9.0             7.0          7.0  \n",
       "\n",
       "[5 rows x 42 columns]"
      ]
     },
     "execution_count": 21,
     "metadata": {},
     "output_type": "execute_result"
    }
   ],
   "source": [
    "# View first Data of Player Attributes Table\n",
    "df_player_attributes.head()"
   ]
  },
  {
   "cell_type": "code",
   "execution_count": 22,
   "metadata": {
    "_uuid": "454866656f89f0c1de556f9a29601d6c38636f29",
    "jupyter": {
     "outputs_hidden": true
    },
    "scrolled": true
   },
   "outputs": [
    {
     "data": {
      "text/plain": [
       "id                        0\n",
       "player_fifa_api_id        0\n",
       "player_api_id             0\n",
       "date                      0\n",
       "overall_rating          836\n",
       "potential               836\n",
       "preferred_foot          836\n",
       "attacking_work_rate    3230\n",
       "defensive_work_rate     836\n",
       "crossing                836\n",
       "finishing               836\n",
       "heading_accuracy        836\n",
       "short_passing           836\n",
       "volleys                2713\n",
       "dribbling               836\n",
       "curve                  2713\n",
       "free_kick_accuracy      836\n",
       "long_passing            836\n",
       "ball_control            836\n",
       "acceleration            836\n",
       "sprint_speed            836\n",
       "agility                2713\n",
       "reactions               836\n",
       "balance                2713\n",
       "shot_power              836\n",
       "jumping                2713\n",
       "stamina                 836\n",
       "strength                836\n",
       "long_shots              836\n",
       "aggression              836\n",
       "interceptions           836\n",
       "positioning             836\n",
       "vision                 2713\n",
       "penalties               836\n",
       "marking                 836\n",
       "standing_tackle         836\n",
       "sliding_tackle         2713\n",
       "gk_diving               836\n",
       "gk_handling             836\n",
       "gk_kicking              836\n",
       "gk_positioning          836\n",
       "gk_reflexes             836\n",
       "dtype: int64"
      ]
     },
     "execution_count": 22,
     "metadata": {},
     "output_type": "execute_result"
    }
   ],
   "source": [
    "# Check for NaN values count\n",
    "df_player_attributes.isnull().sum()"
   ]
  },
  {
   "cell_type": "code",
   "execution_count": 23,
   "metadata": {},
   "outputs": [
    {
     "data": {
      "text/plain": [
       "0"
      ]
     },
     "execution_count": 23,
     "metadata": {},
     "output_type": "execute_result"
    }
   ],
   "source": [
    "# Count Duplicates in Team Table\n",
    "df_player_attributes.duplicated().sum()"
   ]
  },
  {
   "cell_type": "code",
   "execution_count": 24,
   "metadata": {},
   "outputs": [
    {
     "data": {
      "text/plain": [
       "id                        0\n",
       "player_fifa_api_id        0\n",
       "player_api_id             0\n",
       "date                      0\n",
       "overall_rating          836\n",
       "potential               836\n",
       "preferred_foot          836\n",
       "attacking_work_rate    3230\n",
       "defensive_work_rate     836\n",
       "crossing                836\n",
       "finishing               836\n",
       "heading_accuracy        836\n",
       "short_passing           836\n",
       "volleys                2713\n",
       "dribbling               836\n",
       "curve                  2713\n",
       "free_kick_accuracy      836\n",
       "long_passing            836\n",
       "ball_control            836\n",
       "acceleration            836\n",
       "sprint_speed            836\n",
       "agility                2713\n",
       "reactions               836\n",
       "balance                2713\n",
       "shot_power              836\n",
       "jumping                2713\n",
       "stamina                 836\n",
       "strength                836\n",
       "long_shots              836\n",
       "aggression              836\n",
       "interceptions           836\n",
       "positioning             836\n",
       "vision                 2713\n",
       "penalties               836\n",
       "marking                 836\n",
       "standing_tackle         836\n",
       "sliding_tackle         2713\n",
       "gk_diving               836\n",
       "gk_handling             836\n",
       "gk_kicking              836\n",
       "gk_positioning          836\n",
       "gk_reflexes             836\n",
       "dtype: int64"
      ]
     },
     "execution_count": 24,
     "metadata": {},
     "output_type": "execute_result"
    }
   ],
   "source": [
    "# Check for NaN values count\n",
    "df_player_attributes.isnull().sum()"
   ]
  },
  {
   "cell_type": "code",
   "execution_count": 25,
   "metadata": {
    "_uuid": "7a8eb52f50d57c1bd962c883c028885319b925bb",
    "jupyter": {
     "outputs_hidden": true
    }
   },
   "outputs": [
    {
     "data": {
      "text/plain": [
       "3624"
      ]
     },
     "execution_count": 25,
     "metadata": {},
     "output_type": "execute_result"
    }
   ],
   "source": [
    "# Count number of rows that contains missing values\n",
    "df_player_attributes['null_count']=df_player_attributes.isnull().sum(axis=1)\n",
    "(df_player_attributes['null_count']!=0).sum()"
   ]
  },
  {
   "cell_type": "code",
   "execution_count": 26,
   "metadata": {
    "_uuid": "42337e84534e6536a6799161714866ed507029d4",
    "jupyter": {
     "outputs_hidden": true
    }
   },
   "outputs": [
    {
     "data": {
      "text/plain": [
       "0.019698007370446465"
      ]
     },
     "execution_count": 26,
     "metadata": {},
     "output_type": "execute_result"
    }
   ],
   "source": [
    "# Calculate their percentage of number of rows that contain NaN\n",
    "(df_player_attributes['null_count']!=0).sum()/df_player_attributes.shape[0]"
   ]
  },
  {
   "cell_type": "markdown",
   "metadata": {},
   "source": [
    "#### To Clean Player Attributes Table, Rows with NaN Values will be dropped"
   ]
  },
  {
   "cell_type": "markdown",
   "metadata": {
    "_uuid": "e81c5a0a4a7f8b55fcf5d5c9903ad382413139d2"
   },
   "source": [
    "### Data Cleaning"
   ]
  },
  {
   "cell_type": "markdown",
   "metadata": {
    "_uuid": "8e72d7c6417d285828d95614495fbd8144b00fd6"
   },
   "source": [
    "#### Team Attributes Table: Drop 'buildUpPlayDribbling' Column"
   ]
  },
  {
   "cell_type": "code",
   "execution_count": 27,
   "metadata": {
    "_uuid": "22230330a423ee95bb42ffd3eed98fa246fa652e",
    "jupyter": {
     "outputs_hidden": true
    }
   },
   "outputs": [],
   "source": [
    "# Drop buildUpPlayDribbling Column\n",
    "df_team_attributes.drop(columns='buildUpPlayDribbling', inplace=True)"
   ]
  },
  {
   "cell_type": "markdown",
   "metadata": {
    "_uuid": "54d04aec88ca7b1d862fa85ef6767e8362428791"
   },
   "source": [
    "#### Player Attributes Table: Drop rows containing NaN then merge with player table"
   ]
  },
  {
   "cell_type": "code",
   "execution_count": 28,
   "metadata": {
    "_uuid": "48ea62ae609206ae2e2d69b432a1a9e2934bc627",
    "jupyter": {
     "outputs_hidden": true
    }
   },
   "outputs": [],
   "source": [
    "# Merge player and player_attributes\n",
    "df_player_data=pd.merge(df_player_attributes, df_player, on=['player_api_id', 'player_fifa_api_id'])"
   ]
  },
  {
   "cell_type": "markdown",
   "metadata": {
    "_uuid": "73f5b0bbeff01e310c9ae5fbff7edd36510dfa3a"
   },
   "source": [
    "#### Team Table: Drop 'team_fifa_api_id' Column"
   ]
  },
  {
   "cell_type": "code",
   "execution_count": 29,
   "metadata": {},
   "outputs": [],
   "source": [
    "# Drop team_fifa_api_id column out of Team Table\n",
    "df_team.drop(columns='team_fifa_api_id', inplace=True)"
   ]
  },
  {
   "cell_type": "markdown",
   "metadata": {
    "_uuid": "0a30ebfe2735b6c3c5e4da0adc051d227b6e8b72"
   },
   "source": [
    "#### Cleaing Match Table:\n",
    "##### (1) Extract First Columns\n",
    "##### (2) Calculate Each Team Points in Each Match\n",
    "##### (3) Aggregate Team Points to Points per Game of Individual Year\n",
    "##### (4) Save them to New Dataframe team_data\n",
    "##### (5) Merge team_attributes to team_data for analysis"
   ]
  },
  {
   "cell_type": "code",
   "execution_count": 30,
   "metadata": {},
   "outputs": [],
   "source": [
    "df_match=df_match.copy()"
   ]
  },
  {
   "cell_type": "code",
   "execution_count": 31,
   "metadata": {},
   "outputs": [],
   "source": [
    "# Extract First Match Columns\n",
    "match=df_match[['id', 'country_id', 'league_id', 'season', 'stage', 'date','match_api_id', 'home_team_api_id', 'away_team_api_id','home_team_goal', 'away_team_goal']]"
   ]
  },
  {
   "cell_type": "code",
   "execution_count": 32,
   "metadata": {
    "_uuid": "c39d0aae107ae8ce8b74e04aec716d559f8ef583",
    "jupyter": {
     "outputs_hidden": true
    }
   },
   "outputs": [
    {
     "data": {
      "text/html": [
       "<div>\n",
       "<style scoped>\n",
       "    .dataframe tbody tr th:only-of-type {\n",
       "        vertical-align: middle;\n",
       "    }\n",
       "\n",
       "    .dataframe tbody tr th {\n",
       "        vertical-align: top;\n",
       "    }\n",
       "\n",
       "    .dataframe thead th {\n",
       "        text-align: right;\n",
       "    }\n",
       "</style>\n",
       "<table border=\"1\" class=\"dataframe\">\n",
       "  <thead>\n",
       "    <tr style=\"text-align: right;\">\n",
       "      <th></th>\n",
       "      <th>id</th>\n",
       "      <th>country_id</th>\n",
       "      <th>league_id</th>\n",
       "      <th>season</th>\n",
       "      <th>stage</th>\n",
       "      <th>date</th>\n",
       "      <th>match_api_id</th>\n",
       "      <th>home_team_api_id</th>\n",
       "      <th>away_team_api_id</th>\n",
       "      <th>home_team_goal</th>\n",
       "      <th>away_team_goal</th>\n",
       "      <th>home_points</th>\n",
       "      <th>away_points</th>\n",
       "    </tr>\n",
       "  </thead>\n",
       "  <tbody>\n",
       "    <tr>\n",
       "      <th>0</th>\n",
       "      <td>1</td>\n",
       "      <td>1</td>\n",
       "      <td>1</td>\n",
       "      <td>2008/2009</td>\n",
       "      <td>1</td>\n",
       "      <td>2008-08-17 00:00:00</td>\n",
       "      <td>492473</td>\n",
       "      <td>9987</td>\n",
       "      <td>9993</td>\n",
       "      <td>1</td>\n",
       "      <td>1</td>\n",
       "      <td>1</td>\n",
       "      <td>1</td>\n",
       "    </tr>\n",
       "    <tr>\n",
       "      <th>1</th>\n",
       "      <td>2</td>\n",
       "      <td>1</td>\n",
       "      <td>1</td>\n",
       "      <td>2008/2009</td>\n",
       "      <td>1</td>\n",
       "      <td>2008-08-16 00:00:00</td>\n",
       "      <td>492474</td>\n",
       "      <td>10000</td>\n",
       "      <td>9994</td>\n",
       "      <td>0</td>\n",
       "      <td>0</td>\n",
       "      <td>1</td>\n",
       "      <td>1</td>\n",
       "    </tr>\n",
       "    <tr>\n",
       "      <th>2</th>\n",
       "      <td>3</td>\n",
       "      <td>1</td>\n",
       "      <td>1</td>\n",
       "      <td>2008/2009</td>\n",
       "      <td>1</td>\n",
       "      <td>2008-08-16 00:00:00</td>\n",
       "      <td>492475</td>\n",
       "      <td>9984</td>\n",
       "      <td>8635</td>\n",
       "      <td>0</td>\n",
       "      <td>3</td>\n",
       "      <td>0</td>\n",
       "      <td>3</td>\n",
       "    </tr>\n",
       "    <tr>\n",
       "      <th>3</th>\n",
       "      <td>4</td>\n",
       "      <td>1</td>\n",
       "      <td>1</td>\n",
       "      <td>2008/2009</td>\n",
       "      <td>1</td>\n",
       "      <td>2008-08-17 00:00:00</td>\n",
       "      <td>492476</td>\n",
       "      <td>9991</td>\n",
       "      <td>9998</td>\n",
       "      <td>5</td>\n",
       "      <td>0</td>\n",
       "      <td>3</td>\n",
       "      <td>0</td>\n",
       "    </tr>\n",
       "    <tr>\n",
       "      <th>4</th>\n",
       "      <td>5</td>\n",
       "      <td>1</td>\n",
       "      <td>1</td>\n",
       "      <td>2008/2009</td>\n",
       "      <td>1</td>\n",
       "      <td>2008-08-16 00:00:00</td>\n",
       "      <td>492477</td>\n",
       "      <td>7947</td>\n",
       "      <td>9985</td>\n",
       "      <td>1</td>\n",
       "      <td>3</td>\n",
       "      <td>0</td>\n",
       "      <td>3</td>\n",
       "    </tr>\n",
       "  </tbody>\n",
       "</table>\n",
       "</div>"
      ],
      "text/plain": [
       "   id  country_id  league_id     season  stage                 date  \\\n",
       "0   1           1          1  2008/2009      1  2008-08-17 00:00:00   \n",
       "1   2           1          1  2008/2009      1  2008-08-16 00:00:00   \n",
       "2   3           1          1  2008/2009      1  2008-08-16 00:00:00   \n",
       "3   4           1          1  2008/2009      1  2008-08-17 00:00:00   \n",
       "4   5           1          1  2008/2009      1  2008-08-16 00:00:00   \n",
       "\n",
       "   match_api_id  home_team_api_id  away_team_api_id  home_team_goal  \\\n",
       "0        492473              9987              9993               1   \n",
       "1        492474             10000              9994               0   \n",
       "2        492475              9984              8635               0   \n",
       "3        492476              9991              9998               5   \n",
       "4        492477              7947              9985               1   \n",
       "\n",
       "   away_team_goal  home_points  away_points  \n",
       "0               1            1            1  \n",
       "1               0            1            1  \n",
       "2               3            0            3  \n",
       "3               0            3            0  \n",
       "4               3            0            3  "
      ]
     },
     "execution_count": 32,
     "metadata": {},
     "output_type": "execute_result"
    }
   ],
   "source": [
    "# Calculate Each Team Points in Each Match\n",
    "pd.options.mode.chained_assignment = None\n",
    "match['home_points']= (match.home_team_goal > match.away_team_goal)*3 + (match.home_team_goal == match.away_team_goal)*1\n",
    "match['away_points']= (match.home_team_goal < match.away_team_goal)*3 + (match.home_team_goal == match.away_team_goal)*1\n",
    "match.head()"
   ]
  },
  {
   "cell_type": "code",
   "execution_count": 33,
   "metadata": {
    "_uuid": "a431bff95612a83acbb0935e193cc2827b96c2d6",
    "jupyter": {
     "outputs_hidden": true
    }
   },
   "outputs": [],
   "source": [
    "# Split the match table into home dataframe and away dataframe, then append them into a single dataframe\n",
    "homedf=match[['home_team_api_id', 'date','home_team_goal','home_points']]\n",
    "homedf.columns=['team_api_id', 'date', 'goal','points']\n",
    "awaydf=match[['away_team_api_id', 'date','away_team_goal','away_points']]\n",
    "awaydf.columns=['team_api_id', 'date', 'goal','points']\n",
    "df1=pd.DataFrame(homedf.append(awaydf))"
   ]
  },
  {
   "cell_type": "code",
   "execution_count": 34,
   "metadata": {
    "_uuid": "a1c68d09da363ef4dc611b46a7cff740ffa528aa",
    "jupyter": {
     "outputs_hidden": true
    }
   },
   "outputs": [],
   "source": [
    "# Create a year column\n",
    "df1['date']=pd.to_datetime(df1['date'])\n",
    "df1['year']=df1['date'].dt.year"
   ]
  },
  {
   "cell_type": "code",
   "execution_count": 35,
   "metadata": {
    "_uuid": "25ebd17a106aaf661a4ae7044440fa2d779f319e",
    "jupyter": {
     "outputs_hidden": true
    }
   },
   "outputs": [],
   "source": [
    "# Create a new dataframe team_data, that aggregates points into point per game for each year\n",
    "team_data=pd.DataFrame()\n",
    "team_data['total_goals']=df1.groupby(['team_api_id','year'])['goal'].sum()\n",
    "team_data['num_of_games']=df1.groupby(['team_api_id','year']).goal.count()\n",
    "team_data['total_points']=df1.groupby(['team_api_id','year']).points.sum()\n",
    "team_data['points_per_game']=team_data['total_points'] / team_data['num_of_games']\n",
    "team_data.reset_index(inplace=True)"
   ]
  },
  {
   "cell_type": "code",
   "execution_count": 36,
   "metadata": {},
   "outputs": [],
   "source": [
    "#merge with the table team to include team long name, and drop other unnecessary columns\n",
    "team=pd.read_sql_query(\"SELECT * FROM team;\", conn)\n",
    "team_data=pd.merge(team_data, team, on='team_api_id')\n",
    "team_data.drop(columns=['id', 'team_fifa_api_id','team_short_name'], inplace=True)"
   ]
  },
  {
   "cell_type": "markdown",
   "metadata": {
    "_uuid": "5c17606f8e7f11bbf859c8dc9f9fbd9ef2cc2f14"
   },
   "source": [
    "##### Only Teams that have been playing every year since 2010, and played at least 5 years since 2010 will be considered. All The Rows Before 2010 will be dropped. "
   ]
  },
  {
   "cell_type": "code",
   "execution_count": 37,
   "metadata": {
    "_uuid": "3fa9e5601f7ace4af18547616046463572f80eed",
    "jupyter": {
     "outputs_hidden": true
    },
    "scrolled": true
   },
   "outputs": [
    {
     "data": {
      "text/html": [
       "<div>\n",
       "<style scoped>\n",
       "    .dataframe tbody tr th:only-of-type {\n",
       "        vertical-align: middle;\n",
       "    }\n",
       "\n",
       "    .dataframe tbody tr th {\n",
       "        vertical-align: top;\n",
       "    }\n",
       "\n",
       "    .dataframe thead th {\n",
       "        text-align: right;\n",
       "    }\n",
       "</style>\n",
       "<table border=\"1\" class=\"dataframe\">\n",
       "  <thead>\n",
       "    <tr style=\"text-align: right;\">\n",
       "      <th></th>\n",
       "      <th>team_api_id</th>\n",
       "      <th>year</th>\n",
       "      <th>total_goals</th>\n",
       "      <th>num_of_games</th>\n",
       "      <th>total_points</th>\n",
       "      <th>points_per_game</th>\n",
       "      <th>team_long_name</th>\n",
       "    </tr>\n",
       "  </thead>\n",
       "  <tbody>\n",
       "    <tr>\n",
       "      <th>2</th>\n",
       "      <td>1601</td>\n",
       "      <td>2010</td>\n",
       "      <td>29</td>\n",
       "      <td>28</td>\n",
       "      <td>38</td>\n",
       "      <td>1.357143</td>\n",
       "      <td>Ruch Chorzów</td>\n",
       "    </tr>\n",
       "    <tr>\n",
       "      <th>3</th>\n",
       "      <td>1601</td>\n",
       "      <td>2011</td>\n",
       "      <td>43</td>\n",
       "      <td>32</td>\n",
       "      <td>50</td>\n",
       "      <td>1.562500</td>\n",
       "      <td>Ruch Chorzów</td>\n",
       "    </tr>\n",
       "    <tr>\n",
       "      <th>4</th>\n",
       "      <td>1601</td>\n",
       "      <td>2012</td>\n",
       "      <td>31</td>\n",
       "      <td>28</td>\n",
       "      <td>41</td>\n",
       "      <td>1.464286</td>\n",
       "      <td>Ruch Chorzów</td>\n",
       "    </tr>\n",
       "    <tr>\n",
       "      <th>5</th>\n",
       "      <td>1601</td>\n",
       "      <td>2013</td>\n",
       "      <td>49</td>\n",
       "      <td>36</td>\n",
       "      <td>48</td>\n",
       "      <td>1.333333</td>\n",
       "      <td>Ruch Chorzów</td>\n",
       "    </tr>\n",
       "    <tr>\n",
       "      <th>6</th>\n",
       "      <td>1601</td>\n",
       "      <td>2014</td>\n",
       "      <td>33</td>\n",
       "      <td>28</td>\n",
       "      <td>35</td>\n",
       "      <td>1.250000</td>\n",
       "      <td>Ruch Chorzów</td>\n",
       "    </tr>\n",
       "  </tbody>\n",
       "</table>\n",
       "</div>"
      ],
      "text/plain": [
       "   team_api_id  year  total_goals  num_of_games  total_points  \\\n",
       "2         1601  2010           29            28            38   \n",
       "3         1601  2011           43            32            50   \n",
       "4         1601  2012           31            28            41   \n",
       "5         1601  2013           49            36            48   \n",
       "6         1601  2014           33            28            35   \n",
       "\n",
       "   points_per_game team_long_name  \n",
       "2         1.357143   Ruch Chorzów  \n",
       "3         1.562500   Ruch Chorzów  \n",
       "4         1.464286   Ruch Chorzów  \n",
       "5         1.333333   Ruch Chorzów  \n",
       "6         1.250000   Ruch Chorzów  "
      ]
     },
     "execution_count": 37,
     "metadata": {},
     "output_type": "execute_result"
    }
   ],
   "source": [
    "# Drop the rows where the year is before 2010\n",
    "team_data=team_data[team_data.year>2009]\n",
    "team_data.head()"
   ]
  },
  {
   "cell_type": "code",
   "execution_count": 38,
   "metadata": {
    "_uuid": "0bfca72b63d5a3dec8d832f3481cbb9f4d1dd294",
    "jupyter": {
     "outputs_hidden": true
    }
   },
   "outputs": [
    {
     "data": {
      "text/html": [
       "<div>\n",
       "<style scoped>\n",
       "    .dataframe tbody tr th:only-of-type {\n",
       "        vertical-align: middle;\n",
       "    }\n",
       "\n",
       "    .dataframe tbody tr th {\n",
       "        vertical-align: top;\n",
       "    }\n",
       "\n",
       "    .dataframe thead th {\n",
       "        text-align: right;\n",
       "    }\n",
       "</style>\n",
       "<table border=\"1\" class=\"dataframe\">\n",
       "  <thead>\n",
       "    <tr style=\"text-align: right;\">\n",
       "      <th></th>\n",
       "      <th>team_api_id</th>\n",
       "      <th>num_years</th>\n",
       "    </tr>\n",
       "  </thead>\n",
       "  <tbody>\n",
       "    <tr>\n",
       "      <th>0</th>\n",
       "      <td>1601</td>\n",
       "      <td>7</td>\n",
       "    </tr>\n",
       "    <tr>\n",
       "      <th>1</th>\n",
       "      <td>1773</td>\n",
       "      <td>5</td>\n",
       "    </tr>\n",
       "    <tr>\n",
       "      <th>2</th>\n",
       "      <td>1957</td>\n",
       "      <td>7</td>\n",
       "    </tr>\n",
       "    <tr>\n",
       "      <th>3</th>\n",
       "      <td>2033</td>\n",
       "      <td>5</td>\n",
       "    </tr>\n",
       "    <tr>\n",
       "      <th>4</th>\n",
       "      <td>2182</td>\n",
       "      <td>7</td>\n",
       "    </tr>\n",
       "  </tbody>\n",
       "</table>\n",
       "</div>"
      ],
      "text/plain": [
       "   team_api_id  num_years\n",
       "0         1601          7\n",
       "1         1773          5\n",
       "2         1957          7\n",
       "3         2033          5\n",
       "4         2182          7"
      ]
     },
     "execution_count": 38,
     "metadata": {},
     "output_type": "execute_result"
    }
   ],
   "source": [
    "# Create a dataframe that counts how many year each team played\n",
    "num_years=team_data.groupby('team_api_id').year.count()\n",
    "num_years=pd.DataFrame(num_years)\n",
    "num_years.columns=['num_years']\n",
    "num_years.reset_index(inplace=True)\n",
    "num_years.head()"
   ]
  },
  {
   "cell_type": "code",
   "execution_count": 39,
   "metadata": {
    "_uuid": "7986a8a30ad952667ed2b932a5dc56753067e906",
    "jupyter": {
     "outputs_hidden": true
    }
   },
   "outputs": [],
   "source": [
    "# Merge the team_per and num_year dataframes\n",
    "team_data=pd.merge(team_data, num_years, on='team_api_id')"
   ]
  },
  {
   "cell_type": "code",
   "execution_count": 40,
   "metadata": {
    "_uuid": "378ac5a48bc5dd6fcc579f329057dad7799ad3e8",
    "jupyter": {
     "outputs_hidden": true
    }
   },
   "outputs": [],
   "source": [
    "# Filter the dataframe to select only teams who has played at least 5 years \n",
    "team_data=team_data.query('num_years>4')"
   ]
  },
  {
   "cell_type": "markdown",
   "metadata": {
    "_uuid": "e0b2d262b33d8de3bc8289e2ebc1b8805e8a70da"
   },
   "source": [
    "<a id='eda'></a>\n",
    "## Exploratory Data Analysis\n"
   ]
  },
  {
   "cell_type": "markdown",
   "metadata": {
    "_uuid": "a1d15bd6d3f4837c9618a1be9122238ef41eb200"
   },
   "source": [
    "### Question #1: Which Team Improved the most over the year?"
   ]
  },
  {
   "cell_type": "code",
   "execution_count": 41,
   "metadata": {
    "_uuid": "3a64225602e72f98d425a92fe83620066d4df2b0",
    "jupyter": {
     "outputs_hidden": true
    }
   },
   "outputs": [
    {
     "data": {
      "text/plain": [
       "team_long_name\n",
       "Southampton            0.231579\n",
       "Dundee FC              0.175278\n",
       "Juventus               0.174406\n",
       "Paris Saint-Germain    0.171992\n",
       "Sporting CP            0.159250\n",
       "dtype: float64"
      ]
     },
     "execution_count": 41,
     "metadata": {},
     "output_type": "execute_result"
    }
   ],
   "source": [
    "# Calculate Slope of Points Per Game vs. Year under name team_improvement \n",
    "team_improvement=team_data.groupby('team_long_name').apply(lambda v: stats.linregress(v.year,v.points_per_game)[0])\n",
    "# Display 5 Most Improved Teams\n",
    "team_improvement.sort_values(axis=0, ascending=False).head(5)"
   ]
  },
  {
   "cell_type": "code",
   "execution_count": 42,
   "metadata": {
    "_uuid": "79b662182a0ad34e1a7ac9044e49e57738bd5405",
    "jupyter": {
     "outputs_hidden": true
    },
    "scrolled": true
   },
   "outputs": [
    {
     "data": {
      "text/plain": [
       "Text(0.5, 1.0, 'Team Improvements')"
      ]
     },
     "execution_count": 42,
     "metadata": {},
     "output_type": "execute_result"
    },
    {
     "data": {
      "image/png": "[encoded data removed]",
      "text/plain": [
       "<Figure size 432x288 with 1 Axes>"
      ]
     },
     "metadata": {
      "needs_background": "light"
     },
     "output_type": "display_data"
    }
   ],
   "source": [
    "# Histogram of Team Imporvements\n",
    "team_improvement.hist(bins=50)\n",
    "plt.xlabel('Improvement Points per Game & Year')\n",
    "plt.ylabel('Number Of Teams')\n",
    "plt.title('Team Improvements')"
   ]
  },
  {
   "cell_type": "code",
   "execution_count": 43,
   "metadata": {
    "_uuid": "9cd3c7d68b09a3cd320448e962e77613d64b89d0",
    "jupyter": {
     "outputs_hidden": true
    },
    "scrolled": false
   },
   "outputs": [
    {
     "data": {
      "text/plain": [
       "Text(0.5, 1.0, 'The Most Improved Teams')"
      ]
     },
     "execution_count": 43,
     "metadata": {},
     "output_type": "execute_result"
    },
    {
     "data": {
      "image/png": "[encoded data removed]",
      "text/plain": [
       "<Figure size 432x288 with 1 Axes>"
      ]
     },
     "metadata": {
      "needs_background": "light"
     },
     "output_type": "display_data"
    }
   ],
   "source": [
    "# Visualization Plot of the Points Per Game vs. Year for the most improved teams\n",
    "x1=team_data.query('team_long_name==\"Southampton\"')['year']\n",
    "y1=team_data.query('team_long_name==\"Southampton\"')['points_per_game']\n",
    "x2=team_data.query('team_long_name==\"Dundee FC\"')['year']\n",
    "y2=team_data.query('team_long_name==\"Dundee FC\"')['points_per_game']\n",
    "x3=team_data.query('team_long_name==\"Juventus\"')['year']\n",
    "y3=team_data.query('team_long_name==\"Juventus\"')['points_per_game']\n",
    "plt.plot(x1,y1, label='Southampton')\n",
    "plt.plot(x2,y2, label=\"Dundee FC\")\n",
    "plt.plot(x3,y3, label=\"Juventus\")\n",
    "plt.legend()\n",
    "plt.xlabel('Year')\n",
    "plt.ylabel('Points per Game')\n",
    "plt.title(\"The Most Improved Teams\")"
   ]
  },
  {
   "cell_type": "markdown",
   "metadata": {},
   "source": [
    "### Question #2: Which Player has the most penalties?"
   ]
  },
  {
   "cell_type": "code",
   "execution_count": 44,
   "metadata": {},
   "outputs": [],
   "source": [
    "# Sorting Values by Penalties Column\n",
    "df_penalties=df_player_data.sort_values(by=['penalties'], ascending=False)"
   ]
  },
  {
   "cell_type": "code",
   "execution_count": 45,
   "metadata": {},
   "outputs": [
    {
     "data": {
      "text/plain": [
       "(90.0, 100.0)"
      ]
     },
     "execution_count": 45,
     "metadata": {},
     "output_type": "execute_result"
    },
    {
     "data": {
      "image/png": "[encoded data removed]",
      "text/plain": [
       "<Figure size 432x288 with 1 Axes>"
      ]
     },
     "metadata": {
      "needs_background": "light"
     },
     "output_type": "display_data"
    }
   ],
   "source": [
    "### Display Players with Most Penalties\n",
    "sns.barplot(y=\"player_name\", x=\"penalties\", data=df_penalties[:25])\n",
    "plt.xlabel('No. of Penalties')\n",
    "plt.ylabel('Player Name')\n",
    "plt.title(\"The Most Players with Penalties\");\n",
    "plt.xlim(90,100)"
   ]
  },
  {
   "cell_type": "markdown",
   "metadata": {
    "_uuid": "9fc1e1699c23872c80c6136b87e4d9cf0e22e1ad"
   },
   "source": [
    "### Question #3: Which Team Attributes Lead To Most Victories?"
   ]
  },
  {
   "cell_type": "code",
   "execution_count": 46,
   "metadata": {
    "_uuid": "faee57f7a9cd02b3963dc0e1734b084bc6043643",
    "jupyter": {
     "outputs_hidden": true
    }
   },
   "outputs": [],
   "source": [
    "# Create Year Column in Team Attributes Table\n",
    "df_team_attributes['year']=pd.to_datetime(df_team_attributes['date']).dt.year"
   ]
  },
  {
   "cell_type": "code",
   "execution_count": 47,
   "metadata": {
    "_uuid": "522f6c547e800bec7234d84b142df7d0e3757c3a",
    "jupyter": {
     "outputs_hidden": true
    }
   },
   "outputs": [],
   "source": [
    "# Merge team_data and Team Attributes on team_api_id & Year\n",
    "team_data=pd.merge(team_data, df_team_attributes, on=['team_api_id', 'year'])"
   ]
  },
  {
   "cell_type": "code",
   "execution_count": 48,
   "metadata": {
    "_uuid": "53a8e2577a514bd291fcdb710711ff024ee37504",
    "jupyter": {
     "outputs_hidden": true
    },
    "scrolled": true
   },
   "outputs": [
    {
     "name": "stdout",
     "output_type": "stream",
     "text": [
      "<class 'pandas.core.frame.DataFrame'>\n",
      "Int64Index: 981 entries, 0 to 980\n",
      "Data columns (total 31 columns):\n",
      " #   Column                          Non-Null Count  Dtype  \n",
      "---  ------                          --------------  -----  \n",
      " 0   team_api_id                     981 non-null    int64  \n",
      " 1   year                            981 non-null    int64  \n",
      " 2   total_goals                     981 non-null    int64  \n",
      " 3   num_of_games                    981 non-null    int64  \n",
      " 4   total_points                    981 non-null    int32  \n",
      " 5   points_per_game                 981 non-null    float64\n",
      " 6   team_long_name                  981 non-null    object \n",
      " 7   num_years                       981 non-null    int64  \n",
      " 8   id                              981 non-null    int64  \n",
      " 9   team_fifa_api_id                981 non-null    int64  \n",
      " 10  date                            981 non-null    object \n",
      " 11  buildUpPlaySpeed                981 non-null    int64  \n",
      " 12  buildUpPlaySpeedClass           981 non-null    object \n",
      " 13  buildUpPlayDribblingClass       981 non-null    object \n",
      " 14  buildUpPlayPassing              981 non-null    int64  \n",
      " 15  buildUpPlayPassingClass         981 non-null    object \n",
      " 16  buildUpPlayPositioningClass     981 non-null    object \n",
      " 17  chanceCreationPassing           981 non-null    int64  \n",
      " 18  chanceCreationPassingClass      981 non-null    object \n",
      " 19  chanceCreationCrossing          981 non-null    int64  \n",
      " 20  chanceCreationCrossingClass     981 non-null    object \n",
      " 21  chanceCreationShooting          981 non-null    int64  \n",
      " 22  chanceCreationShootingClass     981 non-null    object \n",
      " 23  chanceCreationPositioningClass  981 non-null    object \n",
      " 24  defencePressure                 981 non-null    int64  \n",
      " 25  defencePressureClass            981 non-null    object \n",
      " 26  defenceAggression               981 non-null    int64  \n",
      " 27  defenceAggressionClass          981 non-null    object \n",
      " 28  defenceTeamWidth                981 non-null    int64  \n",
      " 29  defenceTeamWidthClass           981 non-null    object \n",
      " 30  defenceDefenderLineClass        981 non-null    object \n",
      "dtypes: float64(1), int32(1), int64(15), object(14)\n",
      "memory usage: 241.4+ KB\n"
     ]
    }
   ],
   "source": [
    "# View Data Information\n",
    "team_data.info()"
   ]
  },
  {
   "cell_type": "code",
   "execution_count": 49,
   "metadata": {
    "_uuid": "436e54a66230300aa5c1e91b86ccb92437f1e88d",
    "jupyter": {
     "outputs_hidden": true
    }
   },
   "outputs": [],
   "source": [
    "# Create Dataframe for Quantitative Attributes Only as Categorical Attributes are measured by the Quantitative Ones so no need to compare them.\n",
    "df_quant_attributes=team_data[['team_api_id', 'team_long_name', 'year', 'points_per_game','buildUpPlaySpeed','buildUpPlayPassing','chanceCreationPassing','chanceCreationCrossing','chanceCreationShooting','defencePressure','defenceAggression','defenceTeamWidth']]"
   ]
  },
  {
   "cell_type": "code",
   "execution_count": 50,
   "metadata": {
    "_uuid": "bbd8c4b7526eddc523092fa6b26a0ba2d6bcf7da",
    "jupyter": {
     "outputs_hidden": true
    },
    "scrolled": true
   },
   "outputs": [
    {
     "data": {
      "text/html": [
       "<div>\n",
       "<style scoped>\n",
       "    .dataframe tbody tr th:only-of-type {\n",
       "        vertical-align: middle;\n",
       "    }\n",
       "\n",
       "    .dataframe tbody tr th {\n",
       "        vertical-align: top;\n",
       "    }\n",
       "\n",
       "    .dataframe thead th {\n",
       "        text-align: right;\n",
       "    }\n",
       "</style>\n",
       "<table border=\"1\" class=\"dataframe\">\n",
       "  <thead>\n",
       "    <tr style=\"text-align: right;\">\n",
       "      <th></th>\n",
       "      <th>team_api_id</th>\n",
       "      <th>year</th>\n",
       "      <th>points_per_game</th>\n",
       "      <th>buildUpPlaySpeed</th>\n",
       "      <th>buildUpPlayPassing</th>\n",
       "      <th>chanceCreationPassing</th>\n",
       "      <th>chanceCreationCrossing</th>\n",
       "      <th>chanceCreationShooting</th>\n",
       "      <th>defencePressure</th>\n",
       "      <th>defenceAggression</th>\n",
       "      <th>defenceTeamWidth</th>\n",
       "    </tr>\n",
       "  </thead>\n",
       "  <tbody>\n",
       "    <tr>\n",
       "      <th>team_api_id</th>\n",
       "      <td>1.000000</td>\n",
       "      <td>-0.007839</td>\n",
       "      <td>0.046772</td>\n",
       "      <td>0.052132</td>\n",
       "      <td>-0.003022</td>\n",
       "      <td>-0.042379</td>\n",
       "      <td>0.063503</td>\n",
       "      <td>-0.085082</td>\n",
       "      <td>-0.053151</td>\n",
       "      <td>0.014088</td>\n",
       "      <td>-0.058302</td>\n",
       "    </tr>\n",
       "    <tr>\n",
       "      <th>year</th>\n",
       "      <td>-0.007839</td>\n",
       "      <td>1.000000</td>\n",
       "      <td>-0.021977</td>\n",
       "      <td>0.074948</td>\n",
       "      <td>0.048514</td>\n",
       "      <td>0.024844</td>\n",
       "      <td>-0.021954</td>\n",
       "      <td>-0.333363</td>\n",
       "      <td>-0.099163</td>\n",
       "      <td>-0.080795</td>\n",
       "      <td>-0.042233</td>\n",
       "    </tr>\n",
       "    <tr>\n",
       "      <th>points_per_game</th>\n",
       "      <td>0.046772</td>\n",
       "      <td>-0.021977</td>\n",
       "      <td>1.000000</td>\n",
       "      <td>-0.008219</td>\n",
       "      <td>-0.159268</td>\n",
       "      <td>0.067678</td>\n",
       "      <td>0.065759</td>\n",
       "      <td>0.109798</td>\n",
       "      <td>0.219724</td>\n",
       "      <td>0.116018</td>\n",
       "      <td>0.089346</td>\n",
       "    </tr>\n",
       "    <tr>\n",
       "      <th>buildUpPlaySpeed</th>\n",
       "      <td>0.052132</td>\n",
       "      <td>0.074948</td>\n",
       "      <td>-0.008219</td>\n",
       "      <td>1.000000</td>\n",
       "      <td>0.395065</td>\n",
       "      <td>0.289608</td>\n",
       "      <td>0.162214</td>\n",
       "      <td>0.087372</td>\n",
       "      <td>0.007574</td>\n",
       "      <td>0.131372</td>\n",
       "      <td>0.073289</td>\n",
       "    </tr>\n",
       "    <tr>\n",
       "      <th>buildUpPlayPassing</th>\n",
       "      <td>-0.003022</td>\n",
       "      <td>0.048514</td>\n",
       "      <td>-0.159268</td>\n",
       "      <td>0.395065</td>\n",
       "      <td>1.000000</td>\n",
       "      <td>0.163973</td>\n",
       "      <td>0.202657</td>\n",
       "      <td>-0.062444</td>\n",
       "      <td>-0.107224</td>\n",
       "      <td>0.083848</td>\n",
       "      <td>0.039079</td>\n",
       "    </tr>\n",
       "    <tr>\n",
       "      <th>chanceCreationPassing</th>\n",
       "      <td>-0.042379</td>\n",
       "      <td>0.024844</td>\n",
       "      <td>0.067678</td>\n",
       "      <td>0.289608</td>\n",
       "      <td>0.163973</td>\n",
       "      <td>1.000000</td>\n",
       "      <td>0.204306</td>\n",
       "      <td>0.154151</td>\n",
       "      <td>0.154627</td>\n",
       "      <td>0.122657</td>\n",
       "      <td>0.109145</td>\n",
       "    </tr>\n",
       "    <tr>\n",
       "      <th>chanceCreationCrossing</th>\n",
       "      <td>0.063503</td>\n",
       "      <td>-0.021954</td>\n",
       "      <td>0.065759</td>\n",
       "      <td>0.162214</td>\n",
       "      <td>0.202657</td>\n",
       "      <td>0.204306</td>\n",
       "      <td>1.000000</td>\n",
       "      <td>-0.017948</td>\n",
       "      <td>0.027785</td>\n",
       "      <td>0.065589</td>\n",
       "      <td>0.096794</td>\n",
       "    </tr>\n",
       "    <tr>\n",
       "      <th>chanceCreationShooting</th>\n",
       "      <td>-0.085082</td>\n",
       "      <td>-0.333363</td>\n",
       "      <td>0.109798</td>\n",
       "      <td>0.087372</td>\n",
       "      <td>-0.062444</td>\n",
       "      <td>0.154151</td>\n",
       "      <td>-0.017948</td>\n",
       "      <td>1.000000</td>\n",
       "      <td>0.190772</td>\n",
       "      <td>0.116604</td>\n",
       "      <td>0.132674</td>\n",
       "    </tr>\n",
       "    <tr>\n",
       "      <th>defencePressure</th>\n",
       "      <td>-0.053151</td>\n",
       "      <td>-0.099163</td>\n",
       "      <td>0.219724</td>\n",
       "      <td>0.007574</td>\n",
       "      <td>-0.107224</td>\n",
       "      <td>0.154627</td>\n",
       "      <td>0.027785</td>\n",
       "      <td>0.190772</td>\n",
       "      <td>1.000000</td>\n",
       "      <td>0.428100</td>\n",
       "      <td>0.481688</td>\n",
       "    </tr>\n",
       "    <tr>\n",
       "      <th>defenceAggression</th>\n",
       "      <td>0.014088</td>\n",
       "      <td>-0.080795</td>\n",
       "      <td>0.116018</td>\n",
       "      <td>0.131372</td>\n",
       "      <td>0.083848</td>\n",
       "      <td>0.122657</td>\n",
       "      <td>0.065589</td>\n",
       "      <td>0.116604</td>\n",
       "      <td>0.428100</td>\n",
       "      <td>1.000000</td>\n",
       "      <td>0.227369</td>\n",
       "    </tr>\n",
       "    <tr>\n",
       "      <th>defenceTeamWidth</th>\n",
       "      <td>-0.058302</td>\n",
       "      <td>-0.042233</td>\n",
       "      <td>0.089346</td>\n",
       "      <td>0.073289</td>\n",
       "      <td>0.039079</td>\n",
       "      <td>0.109145</td>\n",
       "      <td>0.096794</td>\n",
       "      <td>0.132674</td>\n",
       "      <td>0.481688</td>\n",
       "      <td>0.227369</td>\n",
       "      <td>1.000000</td>\n",
       "    </tr>\n",
       "  </tbody>\n",
       "</table>\n",
       "</div>"
      ],
      "text/plain": [
       "                        team_api_id      year  points_per_game  \\\n",
       "team_api_id                1.000000 -0.007839         0.046772   \n",
       "year                      -0.007839  1.000000        -0.021977   \n",
       "points_per_game            0.046772 -0.021977         1.000000   \n",
       "buildUpPlaySpeed           0.052132  0.074948        -0.008219   \n",
       "buildUpPlayPassing        -0.003022  0.048514        -0.159268   \n",
       "chanceCreationPassing     -0.042379  0.024844         0.067678   \n",
       "chanceCreationCrossing     0.063503 -0.021954         0.065759   \n",
       "chanceCreationShooting    -0.085082 -0.333363         0.109798   \n",
       "defencePressure           -0.053151 -0.099163         0.219724   \n",
       "defenceAggression          0.014088 -0.080795         0.116018   \n",
       "defenceTeamWidth          -0.058302 -0.042233         0.089346   \n",
       "\n",
       "                        buildUpPlaySpeed  buildUpPlayPassing  \\\n",
       "team_api_id                     0.052132           -0.003022   \n",
       "year                            0.074948            0.048514   \n",
       "points_per_game                -0.008219           -0.159268   \n",
       "buildUpPlaySpeed                1.000000            0.395065   \n",
       "buildUpPlayPassing              0.395065            1.000000   \n",
       "chanceCreationPassing           0.289608            0.163973   \n",
       "chanceCreationCrossing          0.162214            0.202657   \n",
       "chanceCreationShooting          0.087372           -0.062444   \n",
       "defencePressure                 0.007574           -0.107224   \n",
       "defenceAggression               0.131372            0.083848   \n",
       "defenceTeamWidth                0.073289            0.039079   \n",
       "\n",
       "                        chanceCreationPassing  chanceCreationCrossing  \\\n",
       "team_api_id                         -0.042379                0.063503   \n",
       "year                                 0.024844               -0.021954   \n",
       "points_per_game                      0.067678                0.065759   \n",
       "buildUpPlaySpeed                     0.289608                0.162214   \n",
       "buildUpPlayPassing                   0.163973                0.202657   \n",
       "chanceCreationPassing                1.000000                0.204306   \n",
       "chanceCreationCrossing               0.204306                1.000000   \n",
       "chanceCreationShooting               0.154151               -0.017948   \n",
       "defencePressure                      0.154627                0.027785   \n",
       "defenceAggression                    0.122657                0.065589   \n",
       "defenceTeamWidth                     0.109145                0.096794   \n",
       "\n",
       "                        chanceCreationShooting  defencePressure  \\\n",
       "team_api_id                          -0.085082        -0.053151   \n",
       "year                                 -0.333363        -0.099163   \n",
       "points_per_game                       0.109798         0.219724   \n",
       "buildUpPlaySpeed                      0.087372         0.007574   \n",
       "buildUpPlayPassing                   -0.062444        -0.107224   \n",
       "chanceCreationPassing                 0.154151         0.154627   \n",
       "chanceCreationCrossing               -0.017948         0.027785   \n",
       "chanceCreationShooting                1.000000         0.190772   \n",
       "defencePressure                       0.190772         1.000000   \n",
       "defenceAggression                     0.116604         0.428100   \n",
       "defenceTeamWidth                      0.132674         0.481688   \n",
       "\n",
       "                        defenceAggression  defenceTeamWidth  \n",
       "team_api_id                      0.014088         -0.058302  \n",
       "year                            -0.080795         -0.042233  \n",
       "points_per_game                  0.116018          0.089346  \n",
       "buildUpPlaySpeed                 0.131372          0.073289  \n",
       "buildUpPlayPassing               0.083848          0.039079  \n",
       "chanceCreationPassing            0.122657          0.109145  \n",
       "chanceCreationCrossing           0.065589          0.096794  \n",
       "chanceCreationShooting           0.116604          0.132674  \n",
       "defencePressure                  0.428100          0.481688  \n",
       "defenceAggression                1.000000          0.227369  \n",
       "defenceTeamWidth                 0.227369          1.000000  "
      ]
     },
     "execution_count": 50,
     "metadata": {},
     "output_type": "execute_result"
    }
   ],
   "source": [
    "# Calculate the Correlation between Quantitative Attributes & Points Per Game.\n",
    "df_quant_attributes.corr()"
   ]
  },
  {
   "cell_type": "code",
   "execution_count": 51,
   "metadata": {},
   "outputs": [
    {
     "data": {
      "text/plain": [
       "KendalltauResult(correlation=0.15005995710489908, pvalue=4.937946066366516e-12)"
      ]
     },
     "execution_count": 51,
     "metadata": {},
     "output_type": "execute_result"
    }
   ],
   "source": [
    "# Calculate Kendall's Correlation between Points Per Game & Defence Pressure\n",
    "stats.kendalltau(df_quant_attributes.points_per_game, df_quant_attributes.defencePressure)"
   ]
  },
  {
   "cell_type": "code",
   "execution_count": 52,
   "metadata": {},
   "outputs": [
    {
     "data": {
      "text/plain": [
       "KendalltauResult(correlation=0.0866239335394611, pvalue=6.884038050047742e-05)"
      ]
     },
     "execution_count": 52,
     "metadata": {},
     "output_type": "execute_result"
    }
   ],
   "source": [
    "# Calculate Kendall's Correlation between Points Per Game & Defence Aggression\n",
    "stats.kendalltau(df_quant_attributes.points_per_game, df_quant_attributes.defenceAggression)"
   ]
  },
  {
   "cell_type": "code",
   "execution_count": 53,
   "metadata": {},
   "outputs": [
    {
     "data": {
      "text/plain": [
       "KendalltauResult(correlation=0.08365112443822294, pvalue=0.00011972927346990764)"
      ]
     },
     "execution_count": 53,
     "metadata": {},
     "output_type": "execute_result"
    }
   ],
   "source": [
    "# Calculate Kendall's Correlation between Points Per Game & Chance Creation Shooting\n",
    "stats.kendalltau(df_quant_attributes.points_per_game, df_quant_attributes.chanceCreationShooting)"
   ]
  },
  {
   "cell_type": "markdown",
   "metadata": {
    "_uuid": "919fc5e681a09e11040ff97da422bb29411abbee"
   },
   "source": [
    "##### Top 3 Team Attributes that are best positively correlated with Points Per Game (P Value = 0):\n",
    "1. Defence Pressure\n",
    "2. Defence Aggression \n",
    "3. Chance Creation Shooting"
   ]
  },
  {
   "cell_type": "code",
   "execution_count": 54,
   "metadata": {
    "_uuid": "f49a2b683dd868b123b3ff30ded10cb83a035e3a",
    "jupyter": {
     "outputs_hidden": true
    }
   },
   "outputs": [],
   "source": [
    "# Close Connection TO SQLite Database\n",
    "conn.close()"
   ]
  },
  {
   "cell_type": "markdown",
   "metadata": {
    "_uuid": "936cad23c3161f80a32446ca5193693d411eaecd"
   },
   "source": [
    "<a id='conclusions'></a>\n",
    "## Conclusions\n",
    "\n",
    "### Limitations\n",
    "> (1) Missing Data (E.x: BuildUpDribbling Column has NaN values over 66% of its data) \\\n",
    "> (2) Insufficient Data for better calculation results\n",
    "\n",
    "### Final Answers \n",
    "#### (1) Which Team Improved The Most Over The Years?   \n",
    "   > Southampton Team\n",
    "#### (2) Which Player has The Most Penalties?\n",
    "   > Rickie Lambert\n",
    "#### (3) Which Team Attributes Lead To Most Victories?\n",
    "   > 1. Defence Pressure\n",
    "   > 2. Defence Aggression\n",
    "   > 3. Chance Creation Shooting"
   ]
  },
  {
   "cell_type": "markdown",
   "metadata": {},
   "source": [
    "## Acknowledgements\n",
    ">- Udacity's Data Analysis Nanodegree Program\n",
    ">- Python & Pandas Documentation\n",
    ">- StackOverFlow Website"
   ]
  },
  {
   "cell_type": "code",
   "execution_count": null,
   "metadata": {},
   "outputs": [],
   "source": []
  }
 ],
 "metadata": {
  "kernelspec": {
   "display_name": "Python 3",
   "language": "python",
   "name": "python3"
  },
  "language_info": {
   "codemirror_mode": {
    "name": "ipython",
    "version": 3
   },
   "file_extension": ".py",
   "mimetype": "text/x-python",
   "name": "python",
   "nbconvert_exporter": "python",
   "pygments_lexer": "ipython3",
   "version": "3.8.10"
  }
 },
 "nbformat": 4,
 "nbformat_minor": 4
}
